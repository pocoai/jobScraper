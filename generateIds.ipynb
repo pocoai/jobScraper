{
 "cells": [
  {
   "cell_type": "code",
   "execution_count": 5,
   "metadata": {},
   "outputs": [],
   "source": [
    "# Generate Ids for jobs in ai-jobs.json\n",
    "# read ai-jobs.json\n",
    "# generate ids for each job\n",
    "# put ids into the objects inside ai-jobs.json\n",
    "\n",
    "import json\n",
    "# write ids to ai-jobs.json \n",
    "# https://ai-jobs.net/job/42991-ai-content-creator/ -> 42991-ai-content-creator\n",
    "with open('ai-jobs.json') as f:\n",
    "    data = json.load(f)\n",
    "    for i in range(len(data)):\n",
    "        data[i]['id'] = data[i]['apply_link'].split('/')[-2]\n",
    "    with open('ai-jobs.json', 'w') as f:\n",
    "        json.dump(data, f, indent=4)"
   ]
  },
  {
   "cell_type": "code",
   "execution_count": 6,
   "metadata": {},
   "outputs": [],
   "source": [
    "# Similarly for datajobs_jobs.json\n",
    "# https://datajobs.com/Shopify/Staff-Data-Scientist-Europe-Remote-Job~80462 -> Staff-Data-Scientist-Europe-Remote-Job~80462\n",
    "with open('datajobs_jobs.json') as f:\n",
    "    data = json.load(f)\n",
    "    for i in range(len(data)):\n",
    "        data[i]['id'] = data[i]['apply_link'].split('/')[-1]\n",
    "    with open('datajobs_jobs.json', 'w') as f:\n",
    "        json.dump(data, f, indent=4)"
   ]
  },
  {
   "cell_type": "code",
   "execution_count": 7,
   "metadata": {},
   "outputs": [],
   "source": [
    "# similarly for machinehack_jobs.json\n",
    "# https://machinehack.com/jobs/?currentJobId=63be8f8952df0c1c0ddce65a -> 63be8f8952df0c1c0ddce65a\n",
    "with open('machinehack_jobs.json') as f:\n",
    "    data = json.load(f)\n",
    "    for i in range(len(data)):\n",
    "        data[i]['id'] = data[i]['apply_link'].split('=')[-1]\n",
    "    with open('machinehack_jobs.json', 'w') as f:\n",
    "        json.dump(data, f, indent=4)"
   ]
  },
  {
   "cell_type": "code",
   "execution_count": null,
   "metadata": {},
   "outputs": [],
   "source": [
    "# similarly for mlconf_jobs.json\n",
    "# https://mlconf.com/job/tbd-new-york-6-founder/ -> tbd-new-york-6-founder\n",
    "with open('mlconf_jobs.json') as f:\n",
    "    data = json.load(f)\n",
    "    for i in range(len(data)):\n",
    "        data[i]['id'] = data[i]['apply_link'].split('/')[-2]\n",
    "    with open('mlconf_jobs.json', 'w') as f:\n",
    "        json.dump(data, f, indent=4)"
   ]
  }
 ],
 "metadata": {
  "kernelspec": {
   "display_name": "Python 3",
   "language": "python",
   "name": "python3"
  },
  "language_info": {
   "codemirror_mode": {
    "name": "ipython",
    "version": 3
   },
   "file_extension": ".py",
   "mimetype": "text/x-python",
   "name": "python",
   "nbconvert_exporter": "python",
   "pygments_lexer": "ipython3",
   "version": "3.10.10"
  },
  "orig_nbformat": 4
 },
 "nbformat": 4,
 "nbformat_minor": 2
}
